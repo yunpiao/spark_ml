{
 "cells": [
  {
   "cell_type": "code",
   "execution_count": 1,
   "metadata": {},
   "outputs": [
    {
     "data": {
      "text/html": [
       "<button onclick=\"$('.input, .prompt, .output_stderr, .output_error, .output_result').toggle();\">隐藏代码</button>"
      ],
      "text/plain": [
       "<IPython.core.display.HTML object>"
      ]
     },
     "metadata": {},
     "output_type": "display_data"
    }
   ],
   "source": [
    "%%HTML\n",
    "<button onclick=\"$('.input, .prompt, .output_stderr, .output_error, .output_result').toggle();\">隐藏代码</button>"
   ]
  },
  {
   "cell_type": "raw",
   "metadata": {},
   "source": [
    "#先安装如下脚本\n",
    "!wget http://files.grouplens.org/datasets/movielens/ml-100k.zip\n",
    "!unzip ml-100k.zip\n",
    "!pip install notebook ipywidgets\n",
    "!pip install matplotlib"
   ]
  },
  {
   "cell_type": "raw",
   "metadata": {},
   "source": [
    "# ALS分为显性训练和阴性训练\n",
    "#ALS.train()\n",
    "#ALS.trainImplicit()\n",
    "model = ALS.train(ratings=rating_data,rank=10,iterations=10,lambda_=0.01)\n",
    "# 训练后是一个分解矩阵 原先矩阵为m*n 训练后分解为m*rank rank*n\n",
    "print(model.userFeatures().take(1))\n",
    "print(model.productFeatures().take(1))\n",
    "# 给用户推荐电影\n",
    "model.recommendProducts(user=100,num=5)\n",
    "# 针对某个电影进行推荐\n",
    "model.recommendUsers(product=1475,num=5)\n",
    "# 查看用户和产品之间的评分 或者说相关性\n",
    "model.predict(user=100,product=1475)"
   ]
  },
  {
   "cell_type": "markdown",
   "metadata": {},
   "source": [
    "## 全局变量"
   ]
  },
  {
   "cell_type": "code",
   "execution_count": 64,
   "metadata": {},
   "outputs": [],
   "source": [
    "spark= None\n",
    "data1 = None\n",
    "data2 = None"
   ]
  },
  {
   "cell_type": "markdown",
   "metadata": {},
   "source": [
    "## 创建spark环境"
   ]
  },
  {
   "cell_type": "code",
   "execution_count": 73,
   "metadata": {},
   "outputs": [
    {
     "data": {
      "application/vnd.jupyter.widget-view+json": {
       "model_id": "e9bafc1e8a244a019f20ed17f1e7984e",
       "version_major": 2,
       "version_minor": 0
      },
      "text/plain": [
       "Dropdown(description='spark master:', index=2, layout=Layout(width='300px'), options=('local', 'yarn', 'local[…"
      ]
     },
     "metadata": {},
     "output_type": "display_data"
    },
    {
     "data": {
      "application/vnd.jupyter.widget-view+json": {
       "model_id": "115b735efc9545f0a8383b3aea9614b1",
       "version_major": 2,
       "version_minor": 0
      },
      "text/plain": [
       "Button(description='创建环境', layout=Layout(width='300px'), style=ButtonStyle())"
      ]
     },
     "metadata": {},
     "output_type": "display_data"
    },
    {
     "data": {
      "application/vnd.jupyter.widget-view+json": {
       "model_id": "c803393c7d1f472b9231eda2dd437727",
       "version_major": 2,
       "version_minor": 0
      },
      "text/plain": [
       "Text(value='./ml-100k/u.data', description='数据一')"
      ]
     },
     "metadata": {},
     "output_type": "display_data"
    },
    {
     "data": {
      "application/vnd.jupyter.widget-view+json": {
       "model_id": "4b20fd681781466d9136be5e216ac2dc",
       "version_major": 2,
       "version_minor": 0
      },
      "text/plain": [
       "Text(value='./ml-100k/u.item', description='数据二')"
      ]
     },
     "metadata": {},
     "output_type": "display_data"
    },
    {
     "data": {
      "application/vnd.jupyter.widget-view+json": {
       "model_id": "cd0eac9a236548ffbe68da8db4e0b8ed",
       "version_major": 2,
       "version_minor": 0
      },
      "text/plain": [
       "Button(description='加载数据', layout=Layout(width='300px'), style=ButtonStyle())"
      ]
     },
     "metadata": {},
     "output_type": "display_data"
    },
    {
     "data": {
      "application/vnd.jupyter.widget-view+json": {
       "model_id": "0f77be983fda4c6f8bdb7fd660ae99ee",
       "version_major": 2,
       "version_minor": 0
      },
      "text/plain": [
       "IntSlider(value=10, description='rank')"
      ]
     },
     "metadata": {},
     "output_type": "display_data"
    },
    {
     "data": {
      "application/vnd.jupyter.widget-view+json": {
       "model_id": "fe4b23a04bc34c1c9985c5ae6f6a6178",
       "version_major": 2,
       "version_minor": 0
      },
      "text/plain": [
       "IntSlider(value=10, description='迭代次数')"
      ]
     },
     "metadata": {},
     "output_type": "display_data"
    },
    {
     "data": {
      "application/vnd.jupyter.widget-view+json": {
       "model_id": "44eb3e51073a4800801543e8a98db48a",
       "version_major": 2,
       "version_minor": 0
      },
      "text/plain": [
       "FloatSlider(value=0.01, description='lambda', max=1.0, step=0.01)"
      ]
     },
     "metadata": {},
     "output_type": "display_data"
    },
    {
     "data": {
      "application/vnd.jupyter.widget-view+json": {
       "model_id": "04daebccfe0e4a94aa00eccfb6dbffa0",
       "version_major": 2,
       "version_minor": 0
      },
      "text/plain": [
       "Button(description='训练模型', layout=Layout(width='300px'), style=ButtonStyle())"
      ]
     },
     "metadata": {},
     "output_type": "display_data"
    },
    {
     "data": {
      "application/vnd.jupyter.widget-view+json": {
       "model_id": "67684701577d49b7a9a34dab756aed13",
       "version_major": 2,
       "version_minor": 0
      },
      "text/plain": [
       "HTML(value='<hr>')"
      ]
     },
     "metadata": {},
     "output_type": "display_data"
    },
    {
     "name": "stdout",
     "output_type": "stream",
     "text": [
      "创建spark环境完成 spark运行在 local[*]\n",
      "数据总量 100000\n",
      "用户数 943\n",
      "电影数 1682\n",
      "数据加载完成 😊\n",
      "\n",
      "开始训练\n",
      "训练完成\n"
     ]
    }
   ],
   "source": [
    "from ipywidgets import *\n",
    "from ipywidgets import HBox, Label\n",
    "import numpy as np\n",
    "import pandas as pd\n",
    "\n",
    "from pyspark.mllib.recommendation import Rating\n",
    "from pyspark.sql import SparkSession\n",
    "\n",
    "from pyspark.mllib.recommendation import ALS\n",
    "\n",
    "\n",
    "spark_master = widgets.Dropdown(\n",
    "    options=['local', 'yarn', 'local[*]'],\n",
    "    value='local[*]',\n",
    "    description='spark master:',\n",
    "    layout={'width': '300px'}\n",
    ")\n",
    "\n",
    "display(spark_master)\n",
    "\n",
    "bt_creat_sc = widgets.Button(\n",
    "    description='创建环境',\n",
    "    layout={'width': '300px'}\n",
    ")\n",
    "\n",
    "def creat_sparksc(bt, master):\n",
    "    global spark\n",
    "    spark = SparkSession.builder.master(master).getOrCreate()\n",
    "    print(\"创建spark环境完成 spark运行在\", spark.sparkContext.master)\n",
    "    bt_creat_sc.disabled = True\n",
    "    bt.value = spark\n",
    "\n",
    "bt_creat_sc.on_click(lambda x: creat_sparksc(x,spark_master.value))\n",
    "display(bt_creat_sc)\n",
    "\n",
    "def load_data(handle,data1_path,data2_path):\n",
    "\n",
    "    data1 = spark.read.csv(data1_path.value)\n",
    "    data1 = data1.rdd.map(lambda x:x._c0.split(\"\\t\")[:3])\n",
    "    data1.cache()\n",
    "    \n",
    "    p_items = spark.read.csv(data2_path.value,sep=\"|\")\n",
    "    products = dict(p_items.select(\"_c0\",\"_c1\").toDF(\"id\",\"product\").toLocalIterator())\n",
    "\n",
    "    print(\"数据总量\",data1.count())\n",
    "    print(\"用户数\",data1.map(lambda x: x[0]).distinct().count())\n",
    "    print(\"电影数\",data1.map(lambda x: x[1]).distinct().count())\n",
    "    print(\"数据加载完成 😊\\n\")\n",
    "    handle.disabled = True\n",
    "    data1_path.data = data1\n",
    "    data2_path.data = products\n",
    "    \n",
    "\n",
    "data1_path = widgets.Text(\n",
    "    value='./data/ml-100k/u.data',\n",
    "    description='数据一',\n",
    ")\n",
    "data2_path = widgets.Text(\n",
    "    value='./data/ml-100k/u.item',\n",
    "    description='数据二',\n",
    ")\n",
    "display(data1_path)\n",
    "display(data2_path)\n",
    "\n",
    "bt_load_data = widgets.Button(\n",
    "    description='加载数据',\n",
    "    layout={'width': '300px'}\n",
    ")\n",
    "bt_load_data.on_click(lambda x:load_data(x,data1_path,data2_path))\n",
    "display(bt_load_data)\n",
    "\n",
    "rank_sel = widgets.IntSlider(\n",
    "    description='rank',\n",
    "    value=10,\n",
    ")\n",
    "iter_sel = widgets.IntSlider(\n",
    "    value=10,\n",
    "    description='迭代次数',\n",
    ")\n",
    "lambda_sel = widgets.FloatSlider(\n",
    "    value=0.01,\n",
    "    description='lambda',\n",
    "    max=1,\n",
    "    step=0.01,\n",
    "    \n",
    ")\n",
    "\n",
    "def train_model(bt,ratings, rank, iterations, lambda_):\n",
    "    print(\"开始训练\")\n",
    "    model = ALS.train(\n",
    "        ratings=ratings, \n",
    "        rank=rank,\n",
    "        iterations=iterations,\n",
    "        lambda_=lambda_\n",
    "    )\n",
    "    print(\"训练完成\")\n",
    "    bt.value = model\n",
    "    \n",
    "bt_train_model = widgets.Button(\n",
    "    description='训练模型',\n",
    "    layout={'width': '300px'}\n",
    ")\n",
    "bt_train_model.on_click(lambda x:train_model(x, data1_path.data, rank_sel.value, iter_sel.value, lambda_sel.value))\n",
    "\n",
    "\n",
    "\n",
    "display(rank_sel)\n",
    "display(iter_sel)\n",
    "display(lambda_sel)\n",
    "display(bt_train_model)\n",
    "\n",
    "\n",
    "display(HTML(\"<hr>\"))"
   ]
  },
  {
   "cell_type": "code",
   "execution_count": 76,
   "metadata": {},
   "outputs": [
    {
     "data": {
      "application/vnd.jupyter.widget-view+json": {
       "model_id": "965d227012e24d809516afd5501f8348",
       "version_major": 2,
       "version_minor": 0
      },
      "text/plain": [
       "HBox(children=(VBox(children=(Text(value='1', description='a'),)), Output()))"
      ]
     },
     "metadata": {},
     "output_type": "display_data"
    }
   ],
   "source": [
    "import matplotlib.pyplot as plt\n",
    "import numpy as np\n",
    "user = widgets.Text(description='选择用户',value='1')\n",
    "def f(user, model):\n",
    "    def format_output(ratings):\n",
    "        global data2_path\n",
    "        for i in ratings:\n",
    "            print(\"用户{0} 推荐电影{1}，推荐评分 {2:.2f}\".format(i.user,data2_path.data[str(i.product)],i.rating))\n",
    "    user \n",
    "    \n",
    "    format_output(model.recommendProducts(user=int(user),num=5))\n",
    "    \n",
    "\n",
    "out = widgets.interactive_output(f, {'user': user, 'model': bt_train_model})\n",
    "\n",
    "widgets.HBox([widgets.VBox([user]), out])\n",
    "                                     \n",
    "                                     \n",
    "                                     "
   ]
  },
  {
   "cell_type": "code",
   "execution_count": null,
   "metadata": {},
   "outputs": [],
   "source": []
  }
 ],
 "metadata": {
  "kernelspec": {
   "display_name": "Python 3",
   "language": "python",
   "name": "python3"
  },
  "language_info": {
   "codemirror_mode": {
    "name": "ipython",
    "version": 3
   },
   "file_extension": ".py",
   "mimetype": "text/x-python",
   "name": "python",
   "nbconvert_exporter": "python",
   "pygments_lexer": "ipython3",
   "version": "3.5.2"
  }
 },
 "nbformat": 4,
 "nbformat_minor": 2
}
